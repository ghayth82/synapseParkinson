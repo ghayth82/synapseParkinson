{
 "cells": [
  {
   "cell_type": "markdown",
   "metadata": {},
   "source": [
    "# This notebook downloads the challenge related data.\n",
    "# It also creates .tsv files with the metadata + file locations."
   ]
  },
  {
   "cell_type": "code",
   "execution_count": 1,
   "metadata": {},
   "outputs": [],
   "source": [
    "#baseDIR = '/home/pataki/synapse/gitParkinson/' # base directory of the github repo\n",
    "#uncomment the line above (+ update) if you are running this notebook in an empty namespace\n",
    "try: baseDIR\n",
    "except NameError:\n",
    "    print('Error: baseDIR not found!')"
   ]
  },
  {
   "cell_type": "code",
   "execution_count": 2,
   "metadata": {},
   "outputs": [],
   "source": [
    "import synapseclient\n",
    "import pandas as pd\n",
    "import getpass"
   ]
  },
  {
   "cell_type": "code",
   "execution_count": 3,
   "metadata": {},
   "outputs": [
    {
     "name": "stdout",
     "output_type": "stream",
     "text": [
      "········\n"
     ]
    }
   ],
   "source": [
    "print('Email for synapse:')\n",
    "EMAIL = input()\n",
    "print('\\nPassword for synapse:')\n",
    "PWD   = getpass.getpass()"
   ]
  },
  {
   "cell_type": "code",
   "execution_count": 4,
   "metadata": {},
   "outputs": [
    {
     "name": "stdout",
     "output_type": "stream",
     "text": [
      "Welcome, Balint Armin Pataki!\n",
      "\n"
     ]
    }
   ],
   "source": [
    "syn = synapseclient.login(email=EMAIL, password=PWD, rememberMe=True)"
   ]
  },
  {
   "cell_type": "markdown",
   "metadata": {},
   "source": [
    "## Download the test data "
   ]
  },
  {
   "cell_type": "code",
   "execution_count": 5,
   "metadata": {},
   "outputs": [
    {
     "name": "stdout",
     "output_type": "stream",
     "text": [
      "(2160, 11)\n"
     ]
    },
    {
     "data": {
      "text/html": [
       "<div>\n",
       "<style>\n",
       "    .dataframe thead tr:only-child th {\n",
       "        text-align: right;\n",
       "    }\n",
       "\n",
       "    .dataframe thead th {\n",
       "        text-align: left;\n",
       "    }\n",
       "\n",
       "    .dataframe tbody tr th {\n",
       "        vertical-align: top;\n",
       "    }\n",
       "</style>\n",
       "<table border=\"1\" class=\"dataframe\">\n",
       "  <thead>\n",
       "    <tr style=\"text-align: right;\">\n",
       "      <th></th>\n",
       "      <th>dataFileHandleId</th>\n",
       "      <th>device</th>\n",
       "      <th>patient</th>\n",
       "      <th>session</th>\n",
       "      <th>site</th>\n",
       "      <th>task</th>\n",
       "      <th>visit</th>\n",
       "      <th>deviceSide</th>\n",
       "      <th>tremorScore</th>\n",
       "      <th>dyskinesiaScore</th>\n",
       "      <th>bradykinesiaScore</th>\n",
       "    </tr>\n",
       "  </thead>\n",
       "  <tbody>\n",
       "    <tr>\n",
       "      <th>12959_10</th>\n",
       "      <td>17287630</td>\n",
       "      <td>GENEActiv</td>\n",
       "      <td>14_BOS</td>\n",
       "      <td>1</td>\n",
       "      <td>Boston</td>\n",
       "      <td>drnkg</td>\n",
       "      <td>1</td>\n",
       "      <td>Right</td>\n",
       "      <td>Score</td>\n",
       "      <td>NotApplicable</td>\n",
       "      <td>Score</td>\n",
       "    </tr>\n",
       "    <tr>\n",
       "      <th>12960_10</th>\n",
       "      <td>17287634</td>\n",
       "      <td>Pebble</td>\n",
       "      <td>14_BOS</td>\n",
       "      <td>1</td>\n",
       "      <td>Boston</td>\n",
       "      <td>drnkg</td>\n",
       "      <td>1</td>\n",
       "      <td>Left</td>\n",
       "      <td>Score</td>\n",
       "      <td>NotApplicable</td>\n",
       "      <td>Score</td>\n",
       "    </tr>\n",
       "    <tr>\n",
       "      <th>12961_10</th>\n",
       "      <td>17287639</td>\n",
       "      <td>GENEActiv</td>\n",
       "      <td>14_BOS</td>\n",
       "      <td>1</td>\n",
       "      <td>Boston</td>\n",
       "      <td>fldng</td>\n",
       "      <td>1</td>\n",
       "      <td>Right</td>\n",
       "      <td>Score</td>\n",
       "      <td>NotApplicable</td>\n",
       "      <td>Score</td>\n",
       "    </tr>\n",
       "    <tr>\n",
       "      <th>12962_10</th>\n",
       "      <td>17287642</td>\n",
       "      <td>Pebble</td>\n",
       "      <td>14_BOS</td>\n",
       "      <td>1</td>\n",
       "      <td>Boston</td>\n",
       "      <td>fldng</td>\n",
       "      <td>1</td>\n",
       "      <td>Left</td>\n",
       "      <td>Score</td>\n",
       "      <td>NotApplicable</td>\n",
       "      <td>Score</td>\n",
       "    </tr>\n",
       "    <tr>\n",
       "      <th>12963_10</th>\n",
       "      <td>17287647</td>\n",
       "      <td>GENEActiv</td>\n",
       "      <td>14_BOS</td>\n",
       "      <td>1</td>\n",
       "      <td>Boston</td>\n",
       "      <td>ftnl1</td>\n",
       "      <td>1</td>\n",
       "      <td>Right</td>\n",
       "      <td>NotApplicable</td>\n",
       "      <td>Score</td>\n",
       "      <td>NotApplicable</td>\n",
       "    </tr>\n",
       "  </tbody>\n",
       "</table>\n",
       "</div>"
      ],
      "text/plain": [
       "          dataFileHandleId     device patient  session    site   task  visit  \\\n",
       "12959_10          17287630  GENEActiv  14_BOS        1  Boston  drnkg      1   \n",
       "12960_10          17287634     Pebble  14_BOS        1  Boston  drnkg      1   \n",
       "12961_10          17287639  GENEActiv  14_BOS        1  Boston  fldng      1   \n",
       "12962_10          17287642     Pebble  14_BOS        1  Boston  fldng      1   \n",
       "12963_10          17287647  GENEActiv  14_BOS        1  Boston  ftnl1      1   \n",
       "\n",
       "         deviceSide    tremorScore dyskinesiaScore bradykinesiaScore  \n",
       "12959_10      Right          Score   NotApplicable             Score  \n",
       "12960_10       Left          Score   NotApplicable             Score  \n",
       "12961_10      Right          Score   NotApplicable             Score  \n",
       "12962_10       Left          Score   NotApplicable             Score  \n",
       "12963_10      Right  NotApplicable           Score     NotApplicable  "
      ]
     },
     "execution_count": 5,
     "metadata": {},
     "output_type": "execute_result"
    }
   ],
   "source": [
    "testDataQuery = syn.tableQuery(\"SELECT * FROM syn10701954\")\n",
    "\n",
    "testDF = testDataQuery.asDataFrame()\n",
    "#print(testDF.shape)\n",
    "testDF.head()"
   ]
  },
  {
   "cell_type": "code",
   "execution_count": 6,
   "metadata": {},
   "outputs": [],
   "source": [
    "query_ldopa_table_test = syn.tableQuery(\"SELECT 'dataFileHandleId' FROM syn10701954\")"
   ]
  },
  {
   "cell_type": "code",
   "execution_count": 7,
   "metadata": {},
   "outputs": [
    {
     "data": {
      "text/plain": [
       "(2160, 1)"
      ]
     },
     "execution_count": 7,
     "metadata": {},
     "output_type": "execute_result"
    }
   ],
   "source": [
    "query_ldopa_table_test.asDataFrame().shape"
   ]
  },
  {
   "cell_type": "code",
   "execution_count": 8,
   "metadata": {},
   "outputs": [
    {
     "name": "stdout",
     "output_type": "stream",
     "text": [
      "Downloading 0 files, 2160 cached locally\n"
     ]
    }
   ],
   "source": [
    "tsv_files_test  = syn.downloadTableColumns(query_ldopa_table_test, \"dataFileHandleId\")"
   ]
  },
  {
   "cell_type": "code",
   "execution_count": 9,
   "metadata": {},
   "outputs": [
    {
     "data": {
      "text/html": [
       "<div>\n",
       "<style>\n",
       "    .dataframe thead tr:only-child th {\n",
       "        text-align: right;\n",
       "    }\n",
       "\n",
       "    .dataframe thead th {\n",
       "        text-align: left;\n",
       "    }\n",
       "\n",
       "    .dataframe tbody tr th {\n",
       "        vertical-align: top;\n",
       "    }\n",
       "</style>\n",
       "<table border=\"1\" class=\"dataframe\">\n",
       "  <thead>\n",
       "    <tr style=\"text-align: right;\">\n",
       "      <th></th>\n",
       "      <th>dataFileHandleId</th>\n",
       "      <th>fileName</th>\n",
       "    </tr>\n",
       "  </thead>\n",
       "  <tbody>\n",
       "    <tr>\n",
       "      <th>0</th>\n",
       "      <td>17287630</td>\n",
       "      <td>/home/pataki/.synapseCache/630/17287630/drnkg_...</td>\n",
       "    </tr>\n",
       "    <tr>\n",
       "      <th>1</th>\n",
       "      <td>17287634</td>\n",
       "      <td>/home/pataki/.synapseCache/634/17287634/drnkg_...</td>\n",
       "    </tr>\n",
       "    <tr>\n",
       "      <th>2</th>\n",
       "      <td>17287639</td>\n",
       "      <td>/home/pataki/.synapseCache/639/17287639/fldng_...</td>\n",
       "    </tr>\n",
       "    <tr>\n",
       "      <th>3</th>\n",
       "      <td>17287642</td>\n",
       "      <td>/home/pataki/.synapseCache/642/17287642/fldng_...</td>\n",
       "    </tr>\n",
       "    <tr>\n",
       "      <th>4</th>\n",
       "      <td>17287647</td>\n",
       "      <td>/home/pataki/.synapseCache/647/17287647/ftnl1_...</td>\n",
       "    </tr>\n",
       "  </tbody>\n",
       "</table>\n",
       "</div>"
      ],
      "text/plain": [
       "   dataFileHandleId                                           fileName\n",
       "0          17287630  /home/pataki/.synapseCache/630/17287630/drnkg_...\n",
       "1          17287634  /home/pataki/.synapseCache/634/17287634/drnkg_...\n",
       "2          17287639  /home/pataki/.synapseCache/639/17287639/fldng_...\n",
       "3          17287642  /home/pataki/.synapseCache/642/17287642/fldng_...\n",
       "4          17287647  /home/pataki/.synapseCache/647/17287647/ftnl1_..."
      ]
     },
     "execution_count": 9,
     "metadata": {},
     "output_type": "execute_result"
    }
   ],
   "source": [
    "fileMapDF = pd.DataFrame({'dataFileHandleId': list(tsv_files_test.keys()), \n",
    "                          'fileName':list(tsv_files_test.values())})\n",
    "fileMapDF['dataFileHandleId'] = [int(i) for i in fileMapDF.dataFileHandleId]\n",
    "fileMapDF.head()"
   ]
  },
  {
   "cell_type": "code",
   "execution_count": 10,
   "metadata": {},
   "outputs": [
    {
     "data": {
      "text/html": [
       "<div>\n",
       "<style>\n",
       "    .dataframe thead tr:only-child th {\n",
       "        text-align: right;\n",
       "    }\n",
       "\n",
       "    .dataframe thead th {\n",
       "        text-align: left;\n",
       "    }\n",
       "\n",
       "    .dataframe tbody tr th {\n",
       "        vertical-align: top;\n",
       "    }\n",
       "</style>\n",
       "<table border=\"1\" class=\"dataframe\">\n",
       "  <thead>\n",
       "    <tr style=\"text-align: right;\">\n",
       "      <th></th>\n",
       "      <th>dataFileHandleId</th>\n",
       "      <th>fileName</th>\n",
       "      <th>device</th>\n",
       "      <th>patient</th>\n",
       "      <th>session</th>\n",
       "      <th>site</th>\n",
       "      <th>task</th>\n",
       "      <th>visit</th>\n",
       "      <th>deviceSide</th>\n",
       "      <th>tremorScore</th>\n",
       "      <th>dyskinesiaScore</th>\n",
       "      <th>bradykinesiaScore</th>\n",
       "    </tr>\n",
       "  </thead>\n",
       "  <tbody>\n",
       "    <tr>\n",
       "      <th>0</th>\n",
       "      <td>17287630</td>\n",
       "      <td>/home/pataki/.synapseCache/630/17287630/drnkg_...</td>\n",
       "      <td>GENEActiv</td>\n",
       "      <td>14_BOS</td>\n",
       "      <td>1</td>\n",
       "      <td>Boston</td>\n",
       "      <td>drnkg</td>\n",
       "      <td>1</td>\n",
       "      <td>Right</td>\n",
       "      <td>Score</td>\n",
       "      <td>NotApplicable</td>\n",
       "      <td>Score</td>\n",
       "    </tr>\n",
       "    <tr>\n",
       "      <th>1</th>\n",
       "      <td>17287634</td>\n",
       "      <td>/home/pataki/.synapseCache/634/17287634/drnkg_...</td>\n",
       "      <td>Pebble</td>\n",
       "      <td>14_BOS</td>\n",
       "      <td>1</td>\n",
       "      <td>Boston</td>\n",
       "      <td>drnkg</td>\n",
       "      <td>1</td>\n",
       "      <td>Left</td>\n",
       "      <td>Score</td>\n",
       "      <td>NotApplicable</td>\n",
       "      <td>Score</td>\n",
       "    </tr>\n",
       "    <tr>\n",
       "      <th>2</th>\n",
       "      <td>17287639</td>\n",
       "      <td>/home/pataki/.synapseCache/639/17287639/fldng_...</td>\n",
       "      <td>GENEActiv</td>\n",
       "      <td>14_BOS</td>\n",
       "      <td>1</td>\n",
       "      <td>Boston</td>\n",
       "      <td>fldng</td>\n",
       "      <td>1</td>\n",
       "      <td>Right</td>\n",
       "      <td>Score</td>\n",
       "      <td>NotApplicable</td>\n",
       "      <td>Score</td>\n",
       "    </tr>\n",
       "    <tr>\n",
       "      <th>3</th>\n",
       "      <td>17287642</td>\n",
       "      <td>/home/pataki/.synapseCache/642/17287642/fldng_...</td>\n",
       "      <td>Pebble</td>\n",
       "      <td>14_BOS</td>\n",
       "      <td>1</td>\n",
       "      <td>Boston</td>\n",
       "      <td>fldng</td>\n",
       "      <td>1</td>\n",
       "      <td>Left</td>\n",
       "      <td>Score</td>\n",
       "      <td>NotApplicable</td>\n",
       "      <td>Score</td>\n",
       "    </tr>\n",
       "    <tr>\n",
       "      <th>4</th>\n",
       "      <td>17287647</td>\n",
       "      <td>/home/pataki/.synapseCache/647/17287647/ftnl1_...</td>\n",
       "      <td>GENEActiv</td>\n",
       "      <td>14_BOS</td>\n",
       "      <td>1</td>\n",
       "      <td>Boston</td>\n",
       "      <td>ftnl1</td>\n",
       "      <td>1</td>\n",
       "      <td>Right</td>\n",
       "      <td>NotApplicable</td>\n",
       "      <td>Score</td>\n",
       "      <td>NotApplicable</td>\n",
       "    </tr>\n",
       "  </tbody>\n",
       "</table>\n",
       "</div>"
      ],
      "text/plain": [
       "   dataFileHandleId                                           fileName  \\\n",
       "0          17287630  /home/pataki/.synapseCache/630/17287630/drnkg_...   \n",
       "1          17287634  /home/pataki/.synapseCache/634/17287634/drnkg_...   \n",
       "2          17287639  /home/pataki/.synapseCache/639/17287639/fldng_...   \n",
       "3          17287642  /home/pataki/.synapseCache/642/17287642/fldng_...   \n",
       "4          17287647  /home/pataki/.synapseCache/647/17287647/ftnl1_...   \n",
       "\n",
       "      device patient  session    site   task  visit deviceSide    tremorScore  \\\n",
       "0  GENEActiv  14_BOS        1  Boston  drnkg      1      Right          Score   \n",
       "1     Pebble  14_BOS        1  Boston  drnkg      1       Left          Score   \n",
       "2  GENEActiv  14_BOS        1  Boston  fldng      1      Right          Score   \n",
       "3     Pebble  14_BOS        1  Boston  fldng      1       Left          Score   \n",
       "4  GENEActiv  14_BOS        1  Boston  ftnl1      1      Right  NotApplicable   \n",
       "\n",
       "  dyskinesiaScore bradykinesiaScore  \n",
       "0   NotApplicable             Score  \n",
       "1   NotApplicable             Score  \n",
       "2   NotApplicable             Score  \n",
       "3   NotApplicable             Score  \n",
       "4           Score     NotApplicable  "
      ]
     },
     "execution_count": 10,
     "metadata": {},
     "output_type": "execute_result"
    }
   ],
   "source": [
    "testDF = pd.merge(fileMapDF, testDF, on='dataFileHandleId', how='inner')\n",
    "testDF.head()"
   ]
  },
  {
   "cell_type": "code",
   "execution_count": 11,
   "metadata": {},
   "outputs": [],
   "source": [
    "testDF.to_csv(baseDIR + 'metaDB/testMetaDF.tsv', sep='\\t', index=False)"
   ]
  },
  {
   "cell_type": "markdown",
   "metadata": {},
   "source": [
    "## Download the train data "
   ]
  },
  {
   "cell_type": "code",
   "execution_count": 12,
   "metadata": {},
   "outputs": [
    {
     "name": "stdout",
     "output_type": "stream",
     "text": [
      "(5168, 11)\n"
     ]
    },
    {
     "data": {
      "text/html": [
       "<div>\n",
       "<style>\n",
       "    .dataframe thead tr:only-child th {\n",
       "        text-align: right;\n",
       "    }\n",
       "\n",
       "    .dataframe thead th {\n",
       "        text-align: left;\n",
       "    }\n",
       "\n",
       "    .dataframe tbody tr th {\n",
       "        vertical-align: top;\n",
       "    }\n",
       "</style>\n",
       "<table border=\"1\" class=\"dataframe\">\n",
       "  <thead>\n",
       "    <tr style=\"text-align: right;\">\n",
       "      <th></th>\n",
       "      <th>dataFileHandleId</th>\n",
       "      <th>device</th>\n",
       "      <th>patient</th>\n",
       "      <th>session</th>\n",
       "      <th>site</th>\n",
       "      <th>task</th>\n",
       "      <th>visit</th>\n",
       "      <th>deviceSide</th>\n",
       "      <th>tremorScore</th>\n",
       "      <th>dyskinesiaScore</th>\n",
       "      <th>bradykinesiaScore</th>\n",
       "    </tr>\n",
       "  </thead>\n",
       "  <tbody>\n",
       "    <tr>\n",
       "      <th>25819_22</th>\n",
       "      <td>17286028</td>\n",
       "      <td>GENEActiv</td>\n",
       "      <td>13_BOS</td>\n",
       "      <td>1</td>\n",
       "      <td>Boston</td>\n",
       "      <td>drnkg</td>\n",
       "      <td>1</td>\n",
       "      <td>Right</td>\n",
       "      <td>1.0</td>\n",
       "      <td>NaN</td>\n",
       "      <td>1.0</td>\n",
       "    </tr>\n",
       "    <tr>\n",
       "      <th>25820_22</th>\n",
       "      <td>17286030</td>\n",
       "      <td>Pebble</td>\n",
       "      <td>13_BOS</td>\n",
       "      <td>1</td>\n",
       "      <td>Boston</td>\n",
       "      <td>drnkg</td>\n",
       "      <td>1</td>\n",
       "      <td>Left</td>\n",
       "      <td>1.0</td>\n",
       "      <td>NaN</td>\n",
       "      <td>1.0</td>\n",
       "    </tr>\n",
       "    <tr>\n",
       "      <th>25821_22</th>\n",
       "      <td>17286034</td>\n",
       "      <td>GENEActiv</td>\n",
       "      <td>13_BOS</td>\n",
       "      <td>1</td>\n",
       "      <td>Boston</td>\n",
       "      <td>fldng</td>\n",
       "      <td>1</td>\n",
       "      <td>Right</td>\n",
       "      <td>2.0</td>\n",
       "      <td>NaN</td>\n",
       "      <td>1.0</td>\n",
       "    </tr>\n",
       "    <tr>\n",
       "      <th>25822_22</th>\n",
       "      <td>17286036</td>\n",
       "      <td>Pebble</td>\n",
       "      <td>13_BOS</td>\n",
       "      <td>1</td>\n",
       "      <td>Boston</td>\n",
       "      <td>fldng</td>\n",
       "      <td>1</td>\n",
       "      <td>Left</td>\n",
       "      <td>1.0</td>\n",
       "      <td>NaN</td>\n",
       "      <td>1.0</td>\n",
       "    </tr>\n",
       "    <tr>\n",
       "      <th>25823_22</th>\n",
       "      <td>17286039</td>\n",
       "      <td>GENEActiv</td>\n",
       "      <td>13_BOS</td>\n",
       "      <td>1</td>\n",
       "      <td>Boston</td>\n",
       "      <td>ftnl1</td>\n",
       "      <td>1</td>\n",
       "      <td>Right</td>\n",
       "      <td>NaN</td>\n",
       "      <td>0.0</td>\n",
       "      <td>NaN</td>\n",
       "    </tr>\n",
       "  </tbody>\n",
       "</table>\n",
       "</div>"
      ],
      "text/plain": [
       "          dataFileHandleId     device patient  session    site   task  visit  \\\n",
       "25819_22          17286028  GENEActiv  13_BOS        1  Boston  drnkg      1   \n",
       "25820_22          17286030     Pebble  13_BOS        1  Boston  drnkg      1   \n",
       "25821_22          17286034  GENEActiv  13_BOS        1  Boston  fldng      1   \n",
       "25822_22          17286036     Pebble  13_BOS        1  Boston  fldng      1   \n",
       "25823_22          17286039  GENEActiv  13_BOS        1  Boston  ftnl1      1   \n",
       "\n",
       "         deviceSide  tremorScore  dyskinesiaScore  bradykinesiaScore  \n",
       "25819_22      Right          1.0              NaN                1.0  \n",
       "25820_22       Left          1.0              NaN                1.0  \n",
       "25821_22      Right          2.0              NaN                1.0  \n",
       "25822_22       Left          1.0              NaN                1.0  \n",
       "25823_22      Right          NaN              0.0                NaN  "
      ]
     },
     "execution_count": 12,
     "metadata": {},
     "output_type": "execute_result"
    }
   ],
   "source": [
    "trainDataQuery = syn.tableQuery(\"SELECT * FROM syn10495809\")\n",
    "\n",
    "trainDF = trainDataQuery.asDataFrame()\n",
    "#print(trainDF.shape)\n",
    "trainDF.head()"
   ]
  },
  {
   "cell_type": "code",
   "execution_count": 13,
   "metadata": {},
   "outputs": [],
   "source": [
    "query_ldopa_table_train = syn.tableQuery(\"SELECT 'dataFileHandleId' FROM syn10495809\")"
   ]
  },
  {
   "cell_type": "code",
   "execution_count": 14,
   "metadata": {},
   "outputs": [
    {
     "data": {
      "text/plain": [
       "(5168, 1)"
      ]
     },
     "execution_count": 14,
     "metadata": {},
     "output_type": "execute_result"
    }
   ],
   "source": [
    "query_ldopa_table_train.asDataFrame().shape"
   ]
  },
  {
   "cell_type": "code",
   "execution_count": 15,
   "metadata": {},
   "outputs": [
    {
     "name": "stdout",
     "output_type": "stream",
     "text": [
      "Downloading 0 files, 5168 cached locally\n"
     ]
    }
   ],
   "source": [
    "tsv_files_train  = syn.downloadTableColumns(query_ldopa_table_train, \"dataFileHandleId\")"
   ]
  },
  {
   "cell_type": "code",
   "execution_count": 16,
   "metadata": {},
   "outputs": [
    {
     "data": {
      "text/html": [
       "<div>\n",
       "<style>\n",
       "    .dataframe thead tr:only-child th {\n",
       "        text-align: right;\n",
       "    }\n",
       "\n",
       "    .dataframe thead th {\n",
       "        text-align: left;\n",
       "    }\n",
       "\n",
       "    .dataframe tbody tr th {\n",
       "        vertical-align: top;\n",
       "    }\n",
       "</style>\n",
       "<table border=\"1\" class=\"dataframe\">\n",
       "  <thead>\n",
       "    <tr style=\"text-align: right;\">\n",
       "      <th></th>\n",
       "      <th>dataFileHandleId</th>\n",
       "      <th>fileName</th>\n",
       "    </tr>\n",
       "  </thead>\n",
       "  <tbody>\n",
       "    <tr>\n",
       "      <th>0</th>\n",
       "      <td>17286028</td>\n",
       "      <td>/home/pataki/.synapseCache/28/17286028/drnkg_G...</td>\n",
       "    </tr>\n",
       "    <tr>\n",
       "      <th>1</th>\n",
       "      <td>17286030</td>\n",
       "      <td>/home/pataki/.synapseCache/30/17286030/drnkg_P...</td>\n",
       "    </tr>\n",
       "    <tr>\n",
       "      <th>2</th>\n",
       "      <td>17286034</td>\n",
       "      <td>/home/pataki/.synapseCache/34/17286034/fldng_G...</td>\n",
       "    </tr>\n",
       "    <tr>\n",
       "      <th>3</th>\n",
       "      <td>17286036</td>\n",
       "      <td>/home/pataki/.synapseCache/36/17286036/fldng_P...</td>\n",
       "    </tr>\n",
       "    <tr>\n",
       "      <th>4</th>\n",
       "      <td>17286039</td>\n",
       "      <td>/home/pataki/.synapseCache/39/17286039/ftnl1_G...</td>\n",
       "    </tr>\n",
       "  </tbody>\n",
       "</table>\n",
       "</div>"
      ],
      "text/plain": [
       "   dataFileHandleId                                           fileName\n",
       "0          17286028  /home/pataki/.synapseCache/28/17286028/drnkg_G...\n",
       "1          17286030  /home/pataki/.synapseCache/30/17286030/drnkg_P...\n",
       "2          17286034  /home/pataki/.synapseCache/34/17286034/fldng_G...\n",
       "3          17286036  /home/pataki/.synapseCache/36/17286036/fldng_P...\n",
       "4          17286039  /home/pataki/.synapseCache/39/17286039/ftnl1_G..."
      ]
     },
     "execution_count": 16,
     "metadata": {},
     "output_type": "execute_result"
    }
   ],
   "source": [
    "fileMapDF = pd.DataFrame({'dataFileHandleId': list(tsv_files_train.keys()), \n",
    "                          'fileName':list(tsv_files_train.values())})\n",
    "fileMapDF['dataFileHandleId'] = [int(i) for i in fileMapDF.dataFileHandleId]\n",
    "fileMapDF.head()"
   ]
  },
  {
   "cell_type": "code",
   "execution_count": 17,
   "metadata": {},
   "outputs": [
    {
     "data": {
      "text/html": [
       "<div>\n",
       "<style>\n",
       "    .dataframe thead tr:only-child th {\n",
       "        text-align: right;\n",
       "    }\n",
       "\n",
       "    .dataframe thead th {\n",
       "        text-align: left;\n",
       "    }\n",
       "\n",
       "    .dataframe tbody tr th {\n",
       "        vertical-align: top;\n",
       "    }\n",
       "</style>\n",
       "<table border=\"1\" class=\"dataframe\">\n",
       "  <thead>\n",
       "    <tr style=\"text-align: right;\">\n",
       "      <th></th>\n",
       "      <th>dataFileHandleId</th>\n",
       "      <th>fileName</th>\n",
       "      <th>device</th>\n",
       "      <th>patient</th>\n",
       "      <th>session</th>\n",
       "      <th>site</th>\n",
       "      <th>task</th>\n",
       "      <th>visit</th>\n",
       "      <th>deviceSide</th>\n",
       "      <th>tremorScore</th>\n",
       "      <th>dyskinesiaScore</th>\n",
       "      <th>bradykinesiaScore</th>\n",
       "    </tr>\n",
       "  </thead>\n",
       "  <tbody>\n",
       "    <tr>\n",
       "      <th>0</th>\n",
       "      <td>17286028</td>\n",
       "      <td>/home/pataki/.synapseCache/28/17286028/drnkg_G...</td>\n",
       "      <td>GENEActiv</td>\n",
       "      <td>13_BOS</td>\n",
       "      <td>1</td>\n",
       "      <td>Boston</td>\n",
       "      <td>drnkg</td>\n",
       "      <td>1</td>\n",
       "      <td>Right</td>\n",
       "      <td>1.0</td>\n",
       "      <td>NaN</td>\n",
       "      <td>1.0</td>\n",
       "    </tr>\n",
       "    <tr>\n",
       "      <th>1</th>\n",
       "      <td>17286030</td>\n",
       "      <td>/home/pataki/.synapseCache/30/17286030/drnkg_P...</td>\n",
       "      <td>Pebble</td>\n",
       "      <td>13_BOS</td>\n",
       "      <td>1</td>\n",
       "      <td>Boston</td>\n",
       "      <td>drnkg</td>\n",
       "      <td>1</td>\n",
       "      <td>Left</td>\n",
       "      <td>1.0</td>\n",
       "      <td>NaN</td>\n",
       "      <td>1.0</td>\n",
       "    </tr>\n",
       "    <tr>\n",
       "      <th>2</th>\n",
       "      <td>17286034</td>\n",
       "      <td>/home/pataki/.synapseCache/34/17286034/fldng_G...</td>\n",
       "      <td>GENEActiv</td>\n",
       "      <td>13_BOS</td>\n",
       "      <td>1</td>\n",
       "      <td>Boston</td>\n",
       "      <td>fldng</td>\n",
       "      <td>1</td>\n",
       "      <td>Right</td>\n",
       "      <td>2.0</td>\n",
       "      <td>NaN</td>\n",
       "      <td>1.0</td>\n",
       "    </tr>\n",
       "    <tr>\n",
       "      <th>3</th>\n",
       "      <td>17286036</td>\n",
       "      <td>/home/pataki/.synapseCache/36/17286036/fldng_P...</td>\n",
       "      <td>Pebble</td>\n",
       "      <td>13_BOS</td>\n",
       "      <td>1</td>\n",
       "      <td>Boston</td>\n",
       "      <td>fldng</td>\n",
       "      <td>1</td>\n",
       "      <td>Left</td>\n",
       "      <td>1.0</td>\n",
       "      <td>NaN</td>\n",
       "      <td>1.0</td>\n",
       "    </tr>\n",
       "    <tr>\n",
       "      <th>4</th>\n",
       "      <td>17286039</td>\n",
       "      <td>/home/pataki/.synapseCache/39/17286039/ftnl1_G...</td>\n",
       "      <td>GENEActiv</td>\n",
       "      <td>13_BOS</td>\n",
       "      <td>1</td>\n",
       "      <td>Boston</td>\n",
       "      <td>ftnl1</td>\n",
       "      <td>1</td>\n",
       "      <td>Right</td>\n",
       "      <td>NaN</td>\n",
       "      <td>0.0</td>\n",
       "      <td>NaN</td>\n",
       "    </tr>\n",
       "  </tbody>\n",
       "</table>\n",
       "</div>"
      ],
      "text/plain": [
       "   dataFileHandleId                                           fileName  \\\n",
       "0          17286028  /home/pataki/.synapseCache/28/17286028/drnkg_G...   \n",
       "1          17286030  /home/pataki/.synapseCache/30/17286030/drnkg_P...   \n",
       "2          17286034  /home/pataki/.synapseCache/34/17286034/fldng_G...   \n",
       "3          17286036  /home/pataki/.synapseCache/36/17286036/fldng_P...   \n",
       "4          17286039  /home/pataki/.synapseCache/39/17286039/ftnl1_G...   \n",
       "\n",
       "      device patient  session    site   task  visit deviceSide  tremorScore  \\\n",
       "0  GENEActiv  13_BOS        1  Boston  drnkg      1      Right          1.0   \n",
       "1     Pebble  13_BOS        1  Boston  drnkg      1       Left          1.0   \n",
       "2  GENEActiv  13_BOS        1  Boston  fldng      1      Right          2.0   \n",
       "3     Pebble  13_BOS        1  Boston  fldng      1       Left          1.0   \n",
       "4  GENEActiv  13_BOS        1  Boston  ftnl1      1      Right          NaN   \n",
       "\n",
       "   dyskinesiaScore  bradykinesiaScore  \n",
       "0              NaN                1.0  \n",
       "1              NaN                1.0  \n",
       "2              NaN                1.0  \n",
       "3              NaN                1.0  \n",
       "4              0.0                NaN  "
      ]
     },
     "execution_count": 17,
     "metadata": {},
     "output_type": "execute_result"
    }
   ],
   "source": [
    "trainDF = pd.merge(fileMapDF, trainDF, on='dataFileHandleId', how='inner')\n",
    "trainDF.head()"
   ]
  },
  {
   "cell_type": "code",
   "execution_count": 18,
   "metadata": {},
   "outputs": [],
   "source": [
    "trainDF.to_csv(baseDIR + 'metaDB/trainMetaDF.tsv', sep='\\t', index=False)"
   ]
  }
 ],
 "metadata": {
  "kernelspec": {
   "display_name": "Python 3",
   "language": "python",
   "name": "python3"
  },
  "language_info": {
   "codemirror_mode": {
    "name": "ipython",
    "version": 3
   },
   "file_extension": ".py",
   "mimetype": "text/x-python",
   "name": "python",
   "nbconvert_exporter": "python",
   "pygments_lexer": "ipython3",
   "version": "3.5.2"
  }
 },
 "nbformat": 4,
 "nbformat_minor": 2
}
