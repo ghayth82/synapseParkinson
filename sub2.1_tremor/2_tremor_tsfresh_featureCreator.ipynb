{
 "cells": [
  {
   "cell_type": "markdown",
   "metadata": {},
   "source": [
    "# Extract features via tsfresh python package"
   ]
  },
  {
   "cell_type": "code",
   "execution_count": 1,
   "metadata": {},
   "outputs": [],
   "source": [
    "#baseDIR = '/home/pataki/synapse/gitParkinson/' # base directory of the github repo\n",
    "#uncomment the line above (+ update) if you are running this notebook in an empty namespace\n",
    "try: baseDIR\n",
    "except NameError:\n",
    "    print('Error: baseDIR not found!')\n",
    "    \n",
    "try: coreNum\n",
    "except NameError:\n",
    "    coreNum = 4 # default CPU cores"
   ]
  },
  {
   "cell_type": "code",
   "execution_count": 2,
   "metadata": {},
   "outputs": [
    {
     "name": "stdout",
     "output_type": "stream",
     "text": [
      "/home/pataki/synapse/gitParkinson/sub2.1_tremor\n"
     ]
    }
   ],
   "source": [
    "cd $baseDIR/sub2.1_tremor/"
   ]
  },
  {
   "cell_type": "code",
   "execution_count": 3,
   "metadata": {},
   "outputs": [],
   "source": [
    "%run -i ../src/helperFuncs.py"
   ]
  },
  {
   "cell_type": "code",
   "execution_count": 4,
   "metadata": {},
   "outputs": [],
   "source": [
    "%matplotlib inline"
   ]
  },
  {
   "cell_type": "code",
   "execution_count": 5,
   "metadata": {},
   "outputs": [
    {
     "name": "stdout",
     "output_type": "stream",
     "text": [
      "Train shape: (3667, 12)\n",
      "Test shape:  (1500, 12)\n",
      "Merged:      (5167, 12)\n"
     ]
    }
   ],
   "source": [
    "mainDF = mainDFCreator('tremorScore')"
   ]
  },
  {
   "cell_type": "code",
   "execution_count": 6,
   "metadata": {},
   "outputs": [
    {
     "name": "stdout",
     "output_type": "stream",
     "text": [
      "Remained shape: (5005, 14)\n"
     ]
    }
   ],
   "source": [
    "mainDF = mainDFtrimmer(fileMinLen=1, inputDF=mainDF, plot=False) # drop empty files"
   ]
  },
  {
   "cell_type": "code",
   "execution_count": 7,
   "metadata": {},
   "outputs": [
    {
     "name": "stderr",
     "output_type": "stream",
     "text": [
      "/home/pataki/.local/lib/python3.5/site-packages/statsmodels/compat/pandas.py:56: FutureWarning: The pandas.core.datetools module is deprecated and will be removed in a future version. Please use the pandas.tseries module instead.\n",
      "  from pandas.core import datetools\n"
     ]
    }
   ],
   "source": [
    "from tsfresh import extract_features"
   ]
  },
  {
   "cell_type": "code",
   "execution_count": 8,
   "metadata": {},
   "outputs": [
    {
     "name": "stderr",
     "output_type": "stream",
     "text": [
      "100%|██████████| 5005/5005 [6:02:58<00:00,  3.43s/it]   \n"
     ]
    }
   ],
   "source": [
    "np.random.seed(42)\n",
    "tsfreshDF = pd.DataFrame()\n",
    "for ID in pb(mainDF.dataFileHandleId.tolist()):\n",
    "    rawDF = dataByID(ID, mainDF)\n",
    "    rawDF['id'] = ID\n",
    "    extracted_features = extract_features(rawDF, column_id='id', column_sort='timestamp',\n",
    "                                          n_jobs = coreNum, disable_progressbar = True)\n",
    "    tsfreshDF = tsfreshDF.append(extracted_features)"
   ]
  },
  {
   "cell_type": "code",
   "execution_count": 9,
   "metadata": {},
   "outputs": [],
   "source": [
    "tsfreshDF.to_csv('featureDB/tsFresh_RAW.tsv', sep = '\\t', index=False)"
   ]
  },
  {
   "cell_type": "markdown",
   "metadata": {},
   "source": [
    "## Doing some filtering"
   ]
  },
  {
   "cell_type": "code",
   "execution_count": 10,
   "metadata": {},
   "outputs": [],
   "source": [
    "tsfreshDF = tsfreshDF.fillna(tsfreshDF.mean())"
   ]
  },
  {
   "cell_type": "code",
   "execution_count": 11,
   "metadata": {},
   "outputs": [],
   "source": [
    "nullCols = tsfreshDF.describe().T[tsfreshDF.describe().T['std'] == 0].index.tolist()"
   ]
  },
  {
   "cell_type": "code",
   "execution_count": 12,
   "metadata": {},
   "outputs": [],
   "source": [
    "for i in nullCols: # drop columns containing only constant value\n",
    "    tsfreshDF.pop(i);"
   ]
  },
  {
   "cell_type": "code",
   "execution_count": 13,
   "metadata": {},
   "outputs": [],
   "source": [
    "tsfreshDF.reset_index().rename(columns = {'id':'dataFileHandleId'}).to_csv('featureDB/tsFresh_fillNA_dropConstant.tsv', sep = '\\t', index=False)"
   ]
  }
 ],
 "metadata": {
  "kernelspec": {
   "display_name": "Python 3",
   "language": "python",
   "name": "python3"
  },
  "language_info": {
   "codemirror_mode": {
    "name": "ipython",
    "version": 3
   },
   "file_extension": ".py",
   "mimetype": "text/x-python",
   "name": "python",
   "nbconvert_exporter": "python",
   "pygments_lexer": "ipython3",
   "version": "3.5.2"
  }
 },
 "nbformat": 4,
 "nbformat_minor": 2
}
