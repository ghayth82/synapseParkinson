{
 "cells": [
  {
   "cell_type": "markdown",
   "metadata": {},
   "source": [
    "This notebook runs for ~18 hours with a 32 core computer."
   ]
  },
  {
   "cell_type": "code",
   "execution_count": null,
   "metadata": {
    "scrolled": true
   },
   "outputs": [],
   "source": [
    "import time\n",
    "import numpy as np\n",
    "\n",
    "np.random.seed(42)\n",
    "def now():\n",
    "    print(time.strftime(\"%Y-%m-%d %H:%M:%S\", time.gmtime()))\n",
    "now()"
   ]
  },
  {
   "cell_type": "markdown",
   "metadata": {},
   "source": [
    "# Setting up namespace"
   ]
  },
  {
   "cell_type": "code",
   "execution_count": null,
   "metadata": {},
   "outputs": [],
   "source": [
    "baseDIR = '/home/pataki/synapse/gitParkinson/' # directory where the github repo is cloned to\n",
    "                                               # you need 1.5GB free space in that directory \n",
    "coreNum = 32 # number of CPU cores allocated for this notebook"
   ]
  },
  {
   "cell_type": "code",
   "execution_count": null,
   "metadata": {},
   "outputs": [],
   "source": [
    "cd $baseDIR"
   ]
  },
  {
   "cell_type": "markdown",
   "metadata": {},
   "source": [
    "# Downloading the data & saving the metainfo"
   ]
  },
  {
   "cell_type": "code",
   "execution_count": null,
   "metadata": {
    "scrolled": true
   },
   "outputs": [],
   "source": [
    "%run -i dataDownloader/dataDownloader.ipynb"
   ]
  },
  {
   "cell_type": "code",
   "execution_count": null,
   "metadata": {},
   "outputs": [],
   "source": [
    "now()"
   ]
  },
  {
   "cell_type": "markdown",
   "metadata": {},
   "source": [
    "# Creating features (capture to avoid polluting cell's output)\n",
    "### subchallenge 2.1"
   ]
  },
  {
   "cell_type": "code",
   "execution_count": null,
   "metadata": {},
   "outputs": [],
   "source": [
    "%%capture \n",
    "%run -i $baseDIR/sub2.1_tremor/1_tremor_metaData_checker_empiricalANDbaseFeatureCreator.ipynb"
   ]
  },
  {
   "cell_type": "code",
   "execution_count": null,
   "metadata": {},
   "outputs": [],
   "source": [
    "now()"
   ]
  },
  {
   "cell_type": "code",
   "execution_count": null,
   "metadata": {},
   "outputs": [],
   "source": [
    "%%capture \n",
    "%run -i $baseDIR/sub2.1_tremor/2_tremor_tsfresh_featureCreator.ipynb"
   ]
  },
  {
   "cell_type": "code",
   "execution_count": null,
   "metadata": {},
   "outputs": [],
   "source": [
    "now()"
   ]
  },
  {
   "cell_type": "code",
   "execution_count": null,
   "metadata": {},
   "outputs": [],
   "source": [
    "%%capture \n",
    "%run -i $baseDIR/sub2.1_tremor/3_tremor_autoCorrelation_rangeRelated_featureCreator.ipynb"
   ]
  },
  {
   "cell_type": "code",
   "execution_count": null,
   "metadata": {},
   "outputs": [],
   "source": [
    "now()"
   ]
  },
  {
   "cell_type": "code",
   "execution_count": null,
   "metadata": {},
   "outputs": [],
   "source": [
    "%%capture \n",
    "%run -i $baseDIR/sub2.1_tremor/4_tremor_fourierFeatureExtractor.ipynb"
   ]
  },
  {
   "cell_type": "code",
   "execution_count": null,
   "metadata": {},
   "outputs": [],
   "source": [
    "now()"
   ]
  },
  {
   "cell_type": "markdown",
   "metadata": {},
   "source": [
    "### subchallenge 2.2"
   ]
  },
  {
   "cell_type": "code",
   "execution_count": null,
   "metadata": {},
   "outputs": [],
   "source": [
    "%%capture \n",
    "%run -i $baseDIR/sub2.2_dysk/1_dysk_metaData_checker_empiricalANDbaseFeatureCreator.ipynb"
   ]
  },
  {
   "cell_type": "code",
   "execution_count": null,
   "metadata": {},
   "outputs": [],
   "source": [
    "now()"
   ]
  },
  {
   "cell_type": "code",
   "execution_count": null,
   "metadata": {},
   "outputs": [],
   "source": [
    "%%capture \n",
    "%run -i $baseDIR/sub2.2_dysk/2_dysk_tsfresh_featureCreator.ipynb"
   ]
  },
  {
   "cell_type": "code",
   "execution_count": null,
   "metadata": {},
   "outputs": [],
   "source": [
    "now()"
   ]
  },
  {
   "cell_type": "code",
   "execution_count": null,
   "metadata": {},
   "outputs": [],
   "source": [
    "%%capture \n",
    "%run -i $baseDIR/sub2.2_dysk/3_dysk_autoCorrelation_rangeRelated_featureCreator.ipynb"
   ]
  },
  {
   "cell_type": "code",
   "execution_count": null,
   "metadata": {},
   "outputs": [],
   "source": [
    "now()"
   ]
  },
  {
   "cell_type": "code",
   "execution_count": null,
   "metadata": {},
   "outputs": [],
   "source": [
    "%%capture \n",
    "%run -i $baseDIR/sub2.2_dysk/4_dysk_fourierFeatureExtractor.ipynb"
   ]
  },
  {
   "cell_type": "code",
   "execution_count": null,
   "metadata": {},
   "outputs": [],
   "source": [
    "now()"
   ]
  },
  {
   "cell_type": "markdown",
   "metadata": {},
   "source": [
    "### subchallenge 2.3"
   ]
  },
  {
   "cell_type": "code",
   "execution_count": null,
   "metadata": {},
   "outputs": [],
   "source": [
    "%%capture \n",
    "%run -i $baseDIR/sub2.3_brad/1_brad_metaData_checker_empiricalANDbaseFeatureCreator.ipynb"
   ]
  },
  {
   "cell_type": "code",
   "execution_count": null,
   "metadata": {},
   "outputs": [],
   "source": [
    "now()"
   ]
  },
  {
   "cell_type": "code",
   "execution_count": null,
   "metadata": {},
   "outputs": [],
   "source": [
    "%%capture \n",
    "%run -i $baseDIR/sub2.3_brad/2_brad_tsfresh_featureCreator.ipynb"
   ]
  },
  {
   "cell_type": "code",
   "execution_count": null,
   "metadata": {},
   "outputs": [],
   "source": [
    "now()"
   ]
  },
  {
   "cell_type": "code",
   "execution_count": null,
   "metadata": {},
   "outputs": [],
   "source": [
    "%%capture \n",
    "%run -i $baseDIR/sub2.3_brad/3_brad_autoCorrelation_rangeRelated_featureCreator.ipynb"
   ]
  },
  {
   "cell_type": "code",
   "execution_count": null,
   "metadata": {},
   "outputs": [],
   "source": [
    "now()"
   ]
  },
  {
   "cell_type": "code",
   "execution_count": null,
   "metadata": {},
   "outputs": [],
   "source": [
    "%%capture \n",
    "%run -i $baseDIR/sub2.3_brad/4_brad_fourierFeatureExtractor.ipynb"
   ]
  },
  {
   "cell_type": "code",
   "execution_count": null,
   "metadata": {},
   "outputs": [],
   "source": [
    "now()"
   ]
  },
  {
   "cell_type": "markdown",
   "metadata": {},
   "source": [
    "# Selecting features & creating submission files"
   ]
  },
  {
   "cell_type": "code",
   "execution_count": null,
   "metadata": {},
   "outputs": [],
   "source": [
    "%%capture \n",
    "%run -i $baseDIR/featureSelectors/scoreNotebook_brad.ipynb\n",
    "%run -i $baseDIR/featureSelectors/scoreNotebook_dysk.ipynb\n",
    "%run -i $baseDIR/featureSelectors/scoreNotebook_tremor.ipynb"
   ]
  },
  {
   "cell_type": "code",
   "execution_count": null,
   "metadata": {},
   "outputs": [],
   "source": [
    "now()"
   ]
  },
  {
   "cell_type": "markdown",
   "metadata": {},
   "source": [
    "# The submission files:"
   ]
  },
  {
   "cell_type": "code",
   "execution_count": null,
   "metadata": {},
   "outputs": [],
   "source": [
    "!ls $baseDIR/featureDB/*"
   ]
  },
  {
   "cell_type": "markdown",
   "metadata": {},
   "source": [
    "#### md5sums for checking if the files are the same"
   ]
  },
  {
   "cell_type": "code",
   "execution_count": null,
   "metadata": {},
   "outputs": [],
   "source": [
    "!md5sum $baseDIR/featureDB/*"
   ]
  },
  {
   "cell_type": "code",
   "execution_count": null,
   "metadata": {},
   "outputs": [],
   "source": [
    "5dc1d3fc303102bab447bc64e04a564d  /home/pataki/synapse/gitParkinson//featureDB/final_brad_30.csv\n",
    "cd638eccd2c882a61fd565497c7262b5  /home/pataki/synapse/gitParkinson//featureDB/final_brad_50.csv\n",
    "3c237486ade1aaafc857ba10765363dc  /home/pataki/synapse/gitParkinson//featureDB/final_dsyk_30.csv\n",
    "7309e83c94c9eb6e6b1f5c2d0cd05859  /home/pataki/synapse/gitParkinson//featureDB/final_dysk_10.csv\n",
    "44777432f8e7d9f4d9fb45ae860d10c1  /home/pataki/synapse/gitParkinson//featureDB/final_tremor_30.csv\n",
    "6c741f50c94f122a626df54b30aa6786  /home/pataki/synapse/gitParkinson//featureDB/final_tremor_50.csv"
   ]
  },
  {
   "cell_type": "markdown",
   "metadata": {},
   "source": [
    "| md5 | file |\n",
    "| --- | ---- |\n",
    "| 399b9bd908a9c24127886ca046f40fbc | /home/pataki/synapse/gitParkinson//featureDB/final_brad_30.csv    |\n",
    "| 8bbd5cc15e57a783b488515eaee0eda4 | /home/pataki/synapse/gitParkinson//featureDB/final_brad_50.csv    |\n",
    "| a47bd9377c0263aab2640c5e8d3a3008 | /home/pataki/synapse/gitParkinson//featureDB/final_dsyk_30.csv    |\n",
    "| 9bb032120f7a80df2d0352fabc39bf79 | /home/pataki/synapse/gitParkinson//featureDB/final_dysk_10.csv    |\n",
    "| 19388ec7a0d3d3e847aa30213a40152b | /home/pataki/synapse/gitParkinson//featureDB/final_tremor_30.csv  |\n",
    "| 1601ba596071fd63cd8dbc5e2463d838 | /home/pataki/synapse/gitParkinson//featureDB/final_tremor_50.csv  |"
   ]
  }
 ],
 "metadata": {
  "kernelspec": {
   "display_name": "Python 3",
   "language": "python",
   "name": "python3"
  },
  "language_info": {
   "codemirror_mode": {
    "name": "ipython",
    "version": 3
   },
   "file_extension": ".py",
   "mimetype": "text/x-python",
   "name": "python",
   "nbconvert_exporter": "python",
   "pygments_lexer": "ipython3",
   "version": "3.5.2"
  }
 },
 "nbformat": 4,
 "nbformat_minor": 2
}
