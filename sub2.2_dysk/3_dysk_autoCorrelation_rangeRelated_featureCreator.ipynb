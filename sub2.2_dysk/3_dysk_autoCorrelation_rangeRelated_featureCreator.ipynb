{
 "cells": [
  {
   "cell_type": "code",
   "execution_count": 1,
   "metadata": {},
   "outputs": [],
   "source": [
    "#baseDIR = '/home/pataki/synapse/gitParkinson/' # base directory of the github repo\n",
    "#uncomment the line above (+ update) if you are running this notebook in an empty namespace\n",
    "try: baseDIR\n",
    "except NameError:\n",
    "    print('Error: baseDIR not found!')"
   ]
  },
  {
   "cell_type": "code",
   "execution_count": 2,
   "metadata": {},
   "outputs": [
    {
     "name": "stdout",
     "output_type": "stream",
     "text": [
      "/home/pataki/synapse/gitParkinson/sub2.2_dysk\n"
     ]
    }
   ],
   "source": [
    "cd $baseDIR/sub2.2_dysk/"
   ]
  },
  {
   "cell_type": "code",
   "execution_count": 3,
   "metadata": {},
   "outputs": [],
   "source": [
    "%run -i ../src/helperFuncs.py"
   ]
  },
  {
   "cell_type": "code",
   "execution_count": 4,
   "metadata": {},
   "outputs": [
    {
     "name": "stdout",
     "output_type": "stream",
     "text": [
      "Welcome, Balint Armin Pataki!\n",
      "\n"
     ]
    }
   ],
   "source": [
    "%run -i ../src/sc2FitModels.py"
   ]
  },
  {
   "cell_type": "code",
   "execution_count": 5,
   "metadata": {},
   "outputs": [],
   "source": [
    "%matplotlib inline"
   ]
  },
  {
   "cell_type": "code",
   "execution_count": 6,
   "metadata": {},
   "outputs": [
    {
     "name": "stdout",
     "output_type": "stream",
     "text": [
      "Train shape: (1556, 12)\n",
      "Test shape:  (660, 12)\n",
      "Merged:      (2216, 12)\n",
      "Remained shape: (2142, 14)\n"
     ]
    }
   ],
   "source": [
    "mainDF = mainDFCreator('dyskinesiaScore')\n",
    "mainDF = mainDFtrimmer(fileMinLen=100, inputDF=mainDF, plot=False)"
   ]
  },
  {
   "cell_type": "code",
   "execution_count": 7,
   "metadata": {},
   "outputs": [
    {
     "name": "stderr",
     "output_type": "stream",
     "text": [
      "100%|██████████| 2142/2142 [00:34<00:00, 32.17it/s]\n"
     ]
    }
   ],
   "source": [
    "xRange = [] # difference between the 80% and 20% percentile\n",
    "yRange = []\n",
    "zRange = []\n",
    "for i in pb(range(len(mainDF))):\n",
    "    tmp = dataByID(mainDF.dataFileHandleId.tolist()[i], mainDF).describe(percentiles=[0.2, 0.8]).T\n",
    "    xRange.append(np.abs(tmp['80%'] - tmp['20%']).X)\n",
    "    yRange.append(np.abs(tmp['80%'] - tmp['20%']).Y)\n",
    "    zRange.append(np.abs(tmp['80%'] - tmp['20%']).Z)\n",
    "    \n",
    "mainDF['xR'] = xRange\n",
    "mainDF['yR'] = yRange\n",
    "mainDF['zR'] = zRange"
   ]
  },
  {
   "cell_type": "code",
   "execution_count": 8,
   "metadata": {},
   "outputs": [
    {
     "name": "stderr",
     "output_type": "stream",
     "text": [
      "100%|██████████| 2142/2142 [00:40<00:00, 25.41it/s]\n"
     ]
    }
   ],
   "source": [
    "xStd = [] # standard deviation for the values between the 90% and 10% percentile\n",
    "yStd = []\n",
    "zStd = []\n",
    "for i in pb(range(len(mainDF))):\n",
    "    rawData = dataByID(mainDF.dataFileHandleId.tolist()[i], mainDF)\n",
    "    tmp     = rawData.describe(percentiles=[0.2, 0.8]).T\n",
    "    xStd.append(rawData[(rawData.X < tmp['80%'].X) & (rawData.X > tmp['20%'].X)].X.std())\n",
    "    yStd.append(rawData[(rawData.Y < tmp['80%'].Y) & (rawData.Y > tmp['20%'].Y)].Y.std())\n",
    "    zStd.append(rawData[(rawData.Z < tmp['80%'].Z) & (rawData.Z > tmp['20%'].Z)].Z.std())\n",
    "    \n",
    "mainDF['xStd'] = xStd\n",
    "mainDF['yStd'] = yStd\n",
    "mainDF['zStd'] = zStd"
   ]
  },
  {
   "cell_type": "code",
   "execution_count": 9,
   "metadata": {},
   "outputs": [],
   "source": [
    "mainDF[['xR', 'yR', 'zR', 'xStd', 'yStd', 'zStd', \n",
    "        'dataFileHandleId']].to_csv('featureDB/rangeStdFeatures.tsv', sep='\\t', index=False)"
   ]
  },
  {
   "cell_type": "markdown",
   "metadata": {},
   "source": [
    "# Take autocorrelation function as a function of lag. Then take the power spectra as feature."
   ]
  },
  {
   "cell_type": "code",
   "execution_count": 10,
   "metadata": {},
   "outputs": [
    {
     "name": "stderr",
     "output_type": "stream",
     "text": [
      "100%|██████████| 2142/2142 [39:44<00:00,  1.24s/it]\n"
     ]
    }
   ],
   "source": [
    "parityInv = {0:1, 1:0} # sampling for Fourier odd/even\n",
    "autoFourierDF = pd.DataFrame()\n",
    "\n",
    "for ID in pb(mainDF.dataFileHandleId.tolist()):\n",
    "    XautoCorrVals = [] # autocorrelation function\n",
    "    YautoCorrVals = []\n",
    "    ZautoCorrVals = []\n",
    "\n",
    "    rawData = dataByID(ID, mainDF)\n",
    "    for i in range(len(rawData) - 40):\n",
    "        XautoCorrVals.append(rawData.X.autocorr(20 + i))\n",
    "        YautoCorrVals.append(rawData.Y.autocorr(20 + i))\n",
    "        ZautoCorrVals.append(rawData.Z.autocorr(20 + i))\n",
    "    fileLen = len(rawData) - 40\n",
    "    timeScale = np.fft.rfftfreq(d=0.001, n = fileLen)\n",
    "    xF = np.abs(np.fft.rfft(XautoCorrVals))**2 # Fourier transform of the autocorrelation function\n",
    "    yF = np.abs(np.fft.rfft(YautoCorrVals))**2\n",
    "    zF = np.abs(np.fft.rfft(ZautoCorrVals))**2\n",
    "\n",
    "    tmpDF = pd.DataFrame({'timeScale':timeScale, 'xAutoFourier': xF, 'yAutoFourier': yF, 'zAutoFourier': zF})\n",
    "    tmpDF = tmpDF[tmpDF.timeScale <= 10.0]\n",
    "    tmpDF['timeScale'] = [int(i) for i in tmpDF.timeScale] # groupby freq (1 hz bins)\n",
    "    tmpDF = tmpDF.groupby('timeScale').mean()\n",
    "\n",
    "    allPowDF = pd.DataFrame(tmpDF.sum(0)).rename(columns = {0:'allPower'}).T # sum of the power spectra\n",
    "    tmpDF = tmpDF.div(tmpDF.sum(0)).append(allPowDF)\n",
    "\n",
    "    xDF = tmpDF[['xAutoFourier']].T\n",
    "    xDF.columns = ['xAutoFourier_' + str(i) for i in xDF.columns.tolist()]\n",
    "\n",
    "    yDF = tmpDF[['yAutoFourier']].T\n",
    "    yDF.columns = ['yAutoFourier_' + str(i) for i in yDF.columns.tolist()]\n",
    "\n",
    "    zDF = tmpDF[['zAutoFourier']].T\n",
    "    zDF.columns = ['zAutoFourier_' + str(i) for i in zDF.columns.tolist()]\n",
    "\n",
    "    allDF = pd.concat([xDF.reset_index(drop=True), yDF.reset_index(drop=True)], axis=1)\n",
    "    allDF = pd.concat([allDF, zDF.reset_index(drop=True)], axis = 1)\n",
    "\n",
    "    allDF['dataFileHandleId'] = ID\n",
    "    \n",
    "    autoFourierDF = autoFourierDF.append(allDF)"
   ]
  },
  {
   "cell_type": "markdown",
   "metadata": {},
   "source": [
    "## There are some too short files. For them I have NaN-s. Fill them up!"
   ]
  },
  {
   "cell_type": "code",
   "execution_count": 11,
   "metadata": {},
   "outputs": [
    {
     "name": "stdout",
     "output_type": "stream",
     "text": [
      "Train shape: (1556, 12)\n",
      "Test shape:  (660, 12)\n",
      "Merged:      (2216, 12)\n",
      "Remained shape: (2143, 14)\n"
     ]
    }
   ],
   "source": [
    "mainDF = mainDFCreator('dyskinesiaScore')\n",
    "mainDF = mainDFtrimmer(fileMinLen=1, inputDF=mainDF, plot=False)"
   ]
  },
  {
   "cell_type": "code",
   "execution_count": 12,
   "metadata": {},
   "outputs": [],
   "source": [
    "fourierDF = pd.merge(autoFourierDF.fillna(autoFourierDF.mean()), mainDF[['dataFileHandleId']], how = 'outer')"
   ]
  },
  {
   "cell_type": "code",
   "execution_count": 13,
   "metadata": {},
   "outputs": [],
   "source": [
    "fourierDF = fourierDF.fillna(fourierDF.mean())"
   ]
  },
  {
   "cell_type": "code",
   "execution_count": 14,
   "metadata": {},
   "outputs": [],
   "source": [
    "fourierDF['xAutoFourier_allPower'] = np.log(fourierDF.xAutoFourier_allPower.tolist())\n",
    "fourierDF['yAutoFourier_allPower'] = np.log(fourierDF.yAutoFourier_allPower.tolist())\n",
    "fourierDF['zAutoFourier_allPower'] = np.log(fourierDF.zAutoFourier_allPower.tolist())"
   ]
  },
  {
   "cell_type": "code",
   "execution_count": 15,
   "metadata": {},
   "outputs": [],
   "source": [
    "fourierDF.fillna(fourierDF.mean()).to_csv('featureDB/autoCorrFeatures.tsv', sep='\\t', index=False)"
   ]
  }
 ],
 "metadata": {
  "kernelspec": {
   "display_name": "Python 3",
   "language": "python",
   "name": "python3"
  },
  "language_info": {
   "codemirror_mode": {
    "name": "ipython",
    "version": 3
   },
   "file_extension": ".py",
   "mimetype": "text/x-python",
   "name": "python",
   "nbconvert_exporter": "python",
   "pygments_lexer": "ipython3",
   "version": "3.5.2"
  }
 },
 "nbformat": 4,
 "nbformat_minor": 2
}
